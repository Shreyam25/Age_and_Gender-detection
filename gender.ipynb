{
 "cells": [
  {
   "cell_type": "code",
   "execution_count": 2,
   "id": "9ec7371a",
   "metadata": {},
   "outputs": [],
   "source": [
    "import pandas as pd\n",
    "import numpy as np\n",
    "import os\n",
    "import matplotlib.pyplot as plt\n",
    "import seaborn as sns\n",
    "from keras.models import load_model\n",
    "\n",
    "\n",
    "import os,cv2\n",
    "import warnings\n",
    "from tqdm.notebook import tqdm\n",
    "warnings.filterwarnings('ignore')\n",
    "%matplotlib inline\n",
    "from sklearn.model_selection import train_test_split\n",
    "import tensorflow as tf\n",
    "from PIL import Image\n",
    "from keras.models import Sequential, Model\n",
    "from keras.layers import Dense, Conv2D, Dropout, Flatten, MaxPooling2D, Input"
   ]
  },
  {
   "cell_type": "code",
   "execution_count": 3,
   "id": "208292a1",
   "metadata": {},
   "outputs": [],
   "source": [
    "import pickle \n",
    "with open('data.pkl','rb') as f:\n",
    "      X = pickle.load(f)"
   ]
  },
  {
   "cell_type": "code",
   "execution_count": 4,
   "id": "06f2299d",
   "metadata": {},
   "outputs": [
    {
     "data": {
      "application/vnd.jupyter.widget-view+json": {
       "model_id": "b094b8d3ef6e40889c3589c0814644e3",
       "version_major": 2,
       "version_minor": 0
      },
      "text/plain": [
       "  0%|          | 0/23708 [00:00<?, ?it/s]"
      ]
     },
     "metadata": {},
     "output_type": "display_data"
    }
   ],
   "source": [
    "# labels - age, gender, ethnicity\n",
    "BASE_DIR = 'UTKFace/'\n",
    "image_paths = []\n",
    "gender_labels = []\n",
    "\n",
    "for filename in tqdm(os.listdir(BASE_DIR)):\n",
    "    image_path = os.path.join(BASE_DIR, filename)\n",
    "    temp = filename.split('_')\n",
    "    gender = int(temp[1])\n",
    "    image_paths.append(image_path)\n",
    "    gender_labels.append(gender)"
   ]
  },
  {
   "cell_type": "code",
   "execution_count": 5,
   "id": "e7b64ece",
   "metadata": {},
   "outputs": [],
   "source": [
    "gender_labels=np.array(gender_labels)\n",
    "y= gender_labels.astype(np.float32)\n"
   ]
  },
  {
   "cell_type": "code",
   "execution_count": 6,
   "id": "fa399487",
   "metadata": {},
   "outputs": [
    {
     "data": {
      "text/plain": [
       "array([0., 1.], dtype=float32)"
      ]
     },
     "execution_count": 6,
     "metadata": {},
     "output_type": "execute_result"
    }
   ],
   "source": [
    "np.unique(y)"
   ]
  },
  {
   "cell_type": "code",
   "execution_count": 6,
   "id": "1f65c8f5",
   "metadata": {},
   "outputs": [
    {
     "name": "stdout",
     "output_type": "stream",
     "text": [
      "Model: \"model\"\n",
      "_________________________________________________________________\n",
      " Layer (type)                Output Shape              Param #   \n",
      "=================================================================\n",
      " input_1 (InputLayer)        [(None, 128, 128, 1)]     0         \n",
      "                                                                 \n",
      " conv2d (Conv2D)             (None, 126, 126, 32)      320       \n",
      "                                                                 \n",
      " max_pooling2d (MaxPooling2D  (None, 63, 63, 32)       0         \n",
      " )                                                               \n",
      "                                                                 \n",
      " conv2d_1 (Conv2D)           (None, 61, 61, 64)        18496     \n",
      "                                                                 \n",
      " max_pooling2d_1 (MaxPooling  (None, 30, 30, 64)       0         \n",
      " 2D)                                                             \n",
      "                                                                 \n",
      " conv2d_2 (Conv2D)           (None, 28, 28, 128)       73856     \n",
      "                                                                 \n",
      " max_pooling2d_2 (MaxPooling  (None, 14, 14, 128)      0         \n",
      " 2D)                                                             \n",
      "                                                                 \n",
      " conv2d_3 (Conv2D)           (None, 12, 12, 256)       295168    \n",
      "                                                                 \n",
      " max_pooling2d_3 (MaxPooling  (None, 6, 6, 256)        0         \n",
      " 2D)                                                             \n",
      "                                                                 \n",
      " flatten (Flatten)           (None, 9216)              0         \n",
      "                                                                 \n",
      " dense (Dense)               (None, 256)               2359552   \n",
      "                                                                 \n",
      " dropout (Dropout)           (None, 256)               0         \n",
      "                                                                 \n",
      " gender_out (Dense)          (None, 1)                 257       \n",
      "                                                                 \n",
      "=================================================================\n",
      "Total params: 2,747,649\n",
      "Trainable params: 2,747,649\n",
      "Non-trainable params: 0\n",
      "_________________________________________________________________\n"
     ]
    }
   ],
   "source": [
    "\n",
    "\n",
    "# Define the input shape\n",
    "input_shape = (128, 128, 1)\n",
    "\n",
    "inputs = Input((input_shape))\n",
    "# convolutional layers\n",
    "conv_1 = Conv2D(32, kernel_size=(3, 3), activation='relu') (inputs)\n",
    "maxp_1 = MaxPooling2D(pool_size=(2, 2)) (conv_1)\n",
    "conv_2 = Conv2D(64, kernel_size=(3, 3), activation='relu') (maxp_1)\n",
    "maxp_2 = MaxPooling2D(pool_size=(2, 2)) (conv_2)\n",
    "conv_3 = Conv2D(128, kernel_size=(3, 3), activation='relu') (maxp_2)\n",
    "maxp_3 = MaxPooling2D(pool_size=(2, 2)) (conv_3)\n",
    "conv_4 = Conv2D(256, kernel_size=(3, 3), activation='relu') (maxp_3)\n",
    "maxp_4 = MaxPooling2D(pool_size=(2, 2)) (conv_4)\n",
    "\n",
    "flatten = Flatten() (maxp_4)\n",
    "\n",
    "# fully connected layers\n",
    "dense_1 = Dense(256, activation='relu') (flatten)\n",
    "\n",
    "dropout_1 = Dropout(0.3) (dense_1)\n",
    "\n",
    "output_1 = Dense(1, activation='sigmoid', name='gender_out') (dropout_1)\n",
    "\n",
    "\n",
    "\n",
    "# Create the model\n",
    "model = Model(inputs=inputs, outputs=output_1)\n",
    "\n",
    "# Compile the model\n",
    "model.compile(loss='binary_crossentropy', optimizer='adam', metrics=['accuracy'])\n",
    "model.summary()"
   ]
  },
  {
   "cell_type": "code",
   "execution_count": 7,
   "id": "da163bf7",
   "metadata": {},
   "outputs": [
    {
     "data": {
      "text/plain": [
       "array([0., 0., 1., ..., 1., 1., 1.], dtype=float32)"
      ]
     },
     "execution_count": 7,
     "metadata": {},
     "output_type": "execute_result"
    }
   ],
   "source": [
    "y"
   ]
  },
  {
   "cell_type": "code",
   "execution_count": 9,
   "id": "8c0b1e3e",
   "metadata": {},
   "outputs": [],
   "source": [
    "from keras.callbacks import EarlyStopping\n",
    "\n",
    "early_stopping = EarlyStopping(monitor='val_loss', patience=10)\n",
    "# training process will be stopped if the monitored quantity does not improve for 10 consecutive epochs.\n",
    "# x_train_age, x_test_age, y_train_age, y_test_age = train_test_split(X, y, random_state=42)\n",
    "\n"
   ]
  },
  {
   "cell_type": "code",
   "execution_count": 11,
   "id": "ab510af8",
   "metadata": {},
   "outputs": [],
   "source": [
    "# x_train_age = np.asarray(x_train_age).astype('float32').reshape((-1,1))\n",
    "# x_test_age= np.asarray(x_test_age).astype('float32').reshape((-1,1))"
   ]
  },
  {
   "cell_type": "code",
   "execution_count": 12,
   "id": "a9fd7fae",
   "metadata": {},
   "outputs": [
    {
     "name": "stdout",
     "output_type": "stream",
     "text": [
      "Epoch 1/10\n",
      "190/190 [==============================] - 291s 2s/step - loss: 0.4492 - accuracy: 0.7807 - val_loss: 0.4438 - val_accuracy: 0.7895\n",
      "Epoch 2/10\n",
      "190/190 [==============================] - 279s 1s/step - loss: 0.2813 - accuracy: 0.8786 - val_loss: 0.4241 - val_accuracy: 0.7942\n",
      "Epoch 3/10\n",
      "190/190 [==============================] - 283s 1s/step - loss: 0.2475 - accuracy: 0.8924 - val_loss: 0.3804 - val_accuracy: 0.8317\n",
      "Epoch 4/10\n",
      "190/190 [==============================] - 279s 1s/step - loss: 0.2261 - accuracy: 0.9043 - val_loss: 0.3846 - val_accuracy: 0.8353\n",
      "Epoch 5/10\n",
      "190/190 [==============================] - 275s 1s/step - loss: 0.2035 - accuracy: 0.9141 - val_loss: 0.4003 - val_accuracy: 0.8408\n",
      "Epoch 6/10\n",
      "190/190 [==============================] - 272s 1s/step - loss: 0.1867 - accuracy: 0.9227 - val_loss: 0.3794 - val_accuracy: 0.8334\n",
      "Epoch 7/10\n",
      "190/190 [==============================] - 273s 1s/step - loss: 0.1750 - accuracy: 0.9241 - val_loss: 0.3837 - val_accuracy: 0.8515\n",
      "Epoch 8/10\n",
      "190/190 [==============================] - 274s 1s/step - loss: 0.1564 - accuracy: 0.9363 - val_loss: 0.4081 - val_accuracy: 0.8507\n",
      "Epoch 9/10\n",
      "190/190 [==============================] - 278s 1s/step - loss: 0.1401 - accuracy: 0.9425 - val_loss: 0.4164 - val_accuracy: 0.8505\n",
      "Epoch 10/10\n",
      "190/190 [==============================] - 274s 1s/step - loss: 0.1255 - accuracy: 0.9504 - val_loss: 0.5583 - val_accuracy: 0.8475\n"
     ]
    },
    {
     "data": {
      "text/plain": [
       "<keras.callbacks.History at 0x1c10049b760>"
      ]
     },
     "execution_count": 12,
     "metadata": {},
     "output_type": "execute_result"
    }
   ],
   "source": [
    "model.fit(x=X,y=y ,callbacks=[early_stopping], batch_size=100, epochs=10, validation_split=0.2)"
   ]
  },
  {
   "cell_type": "code",
   "execution_count": 9,
   "id": "871787c4",
   "metadata": {},
   "outputs": [
    {
     "name": "stdout",
     "output_type": "stream",
     "text": [
      "1/1 [==============================] - 0s 452ms/step\n"
     ]
    },
    {
     "data": {
      "text/plain": [
       "'Female'"
      ]
     },
     "execution_count": 9,
     "metadata": {},
     "output_type": "execute_result"
    },
    {
     "data": {
      "image/png": "[encoded data removed]",
      "text/plain": [
       "<Figure size 432x288 with 1 Axes>"
      ]
     },
     "metadata": {
      "needs_background": "light"
     },
     "output_type": "display_data"
    }
   ],
   "source": [
    "# image = cv2.imread()\n",
    "# image = Image.fromarray(image, 'RGB')\n",
    "# image = image.resize((64, 64))\n",
    "# image=np.array(image)\n",
    "\n",
    "img = tf.keras.utils.load_img(\"UTKFace/27_1_0_20170109002819172.jpg.chip.jpg\", grayscale=True)\n",
    "gender_dict = {0:'Male', 1:'Female'}\n",
    "\n",
    "# image = cv2.imread(\"UTKFace\\9_1_0_20170105000600802.jpg.chip.jpg\")\n",
    "img = img.resize((128,128), Image.ANTIALIAS)\n",
    "img = np.array(img)\n",
    "input_shape = (128, 128, 1)\n",
    "pred=model.predict(img.reshape(1, 128, 128, 1))\n",
    "pred_gender = gender_dict[int(pred[0][0])]\n",
    "# print(\"Predicted Gender:\", pred_gender, \"\\nPredicted Age:\", pred_age)\n",
    "plt.axis('off')\n",
    "plt.imshow(img.reshape(128, 128), cmap='gray');\n",
    "\n",
    "pred_gender "
   ]
  },
  {
   "cell_type": "code",
   "execution_count": 35,
   "id": "badcfc28",
   "metadata": {},
   "outputs": [],
   "source": [
    " model.save('Gendermodel.h5')\n"
   ]
  },
  {
   "cell_type": "code",
   "execution_count": 8,
   "id": "370c6760",
   "metadata": {},
   "outputs": [],
   "source": [
    "model=load_model(\"Gendermodel.h5\")"
   ]
  },
  {
   "cell_type": "code",
   "execution_count": null,
   "id": "8aeee862",
   "metadata": {},
   "outputs": [],
   "source": []
  }
 ],
 "metadata": {
  "kernelspec": {
   "display_name": "Python 3 (ipykernel)",
   "language": "python",
   "name": "python3"
  },
  "language_info": {
   "codemirror_mode": {
    "name": "ipython",
    "version": 3
   },
   "file_extension": ".py",
   "mimetype": "text/x-python",
   "name": "python",
   "nbconvert_exporter": "python",
   "pygments_lexer": "ipython3",
   "version": "3.9.7"
  }
 },
 "nbformat": 4,
 "nbformat_minor": 5
}
